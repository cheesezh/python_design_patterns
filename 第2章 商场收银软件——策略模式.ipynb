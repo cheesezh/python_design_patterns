{
 "cells": [
  {
   "cell_type": "markdown",
   "metadata": {},
   "source": [
    "## 题目\n",
    "设计一个控制台程序, 模拟商场收银软件，根据客户购买商品的单价和数量，计算总价。\n",
    "\n",
    "## 基础版本"
   ]
  },
  {
   "cell_type": "code",
   "execution_count": 5,
   "metadata": {},
   "outputs": [
    {
     "name": "stdout",
     "output_type": "stream",
     "text": [
      "输入商品单价:3\n",
      "输入商品数量:4\n",
      "当前总价: 12.00\n",
      "输入商品单价:5\n",
      "输入商品数量:6\n",
      "当前总价: 42.00\n",
      "输入商品单价:-1\n"
     ]
    }
   ],
   "source": [
    "total = 0.0\n",
    "while(True):\n",
    "    price = float(input(\"输入商品单价:\"))\n",
    "    if price == -1:  # 输入价格为-1时，退出程序\n",
    "        break\n",
    "    number = int(input(\"输入商品数量:\"))\n",
    "    total += (price * number)\n",
    "    print(\"当前总价: %.2f\" % total)"
   ]
  },
  {
   "cell_type": "markdown",
   "metadata": {},
   "source": [
    "## asdf"
   ]
  },
  {
   "cell_type": "code",
   "execution_count": null,
   "metadata": {},
   "outputs": [],
   "source": []
  }
 ],
 "metadata": {
  "kernelspec": {
   "display_name": "Python 3",
   "language": "python",
   "name": "python3"
  },
  "language_info": {
   "codemirror_mode": {
    "name": "ipython",
    "version": 3
   },
   "file_extension": ".py",
   "mimetype": "text/x-python",
   "name": "python",
   "nbconvert_exporter": "python",
   "pygments_lexer": "ipython3",
   "version": "3.6.4"
  }
 },
 "nbformat": 4,
 "nbformat_minor": 2
}
